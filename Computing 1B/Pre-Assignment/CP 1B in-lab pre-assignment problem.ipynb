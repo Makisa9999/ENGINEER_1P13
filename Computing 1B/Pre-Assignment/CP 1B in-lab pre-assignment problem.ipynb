{
 "cells": [
  {
   "attachments": {
    "image.png": {
     "image/png": "[encoded data removed]"
    }
   },
   "cell_type": "markdown",
   "metadata": {},
   "source": [
    "  # ENG 1P13 - Computing 1B - Trial and Errors\n",
    "  \n",
    "  ## CP 1B in-lab test \n",
    "  1. Write a program that takes the x and y values of 2 points from the user, calculates the distance between them, and print the output. \n",
    "  ![image.png](attachment:image.png)\n",
    "  "
   ]
  },
  {
   "cell_type": "code",
   "execution_count": null,
   "metadata": {},
   "outputs": [],
   "source": []
  },
  {
   "cell_type": "markdown",
   "metadata": {},
   "source": [
    "---\n",
    "## Submission\n",
    "\n",
    "Please download this notebook as a .py file (*File* > *Download as* > *Python (.py)*) and submit it to the Computing Lab 1b Pre-Assigment dropbox on avenue with the naming convention: macID_pre_CL1b.py\n",
    "\n",
    "**Make sure the final version of your file runs without errors, otherwise, you will likely receive zero.**"
   ]
  }
 ],
 "metadata": {
  "kernelspec": {
   "display_name": "Python 3",
   "language": "python",
   "name": "python3"
  },
  "language_info": {
   "codemirror_mode": {
    "name": "ipython",
    "version": 3
   },
   "file_extension": ".py",
   "mimetype": "text/x-python",
   "name": "python",
   "nbconvert_exporter": "python",
   "pygments_lexer": "ipython3",
   "version": "3.8.3"
  }
 },
 "nbformat": 4,
 "nbformat_minor": 5
}
