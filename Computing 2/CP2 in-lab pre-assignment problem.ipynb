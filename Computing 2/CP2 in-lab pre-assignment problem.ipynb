{
 "cells": [
  {
   "cell_type": "markdown",
   "id": "259d697d",
   "metadata": {},
   "source": [
    " # ENG 1P13 - Computing 2 - Form Follows Function \n",
    "  \n",
    "  ## CP 2 Pre-assignment Problem\n",
    "The requirements of the program are given below. Please ensure that your functions have the EXACT naming as specified! Failure to do so will result in lost marks. You can choose to copy and paste the function names into the implementation cell to avoid spelling mistakes."
   ]
  },
  {
   "cell_type": "markdown",
   "id": "c194ce41",
   "metadata": {},
   "source": [
    "Define a function **invert**(*n*): \n",
    "  - ***n***: A number value of type *float*.\n",
    "  - **Return**: the value of *n* with the sign inverted (i.e., inverted from positive to negative, or from negative to positive)"
   ]
  },
  {
   "cell_type": "code",
   "execution_count": 4,
   "id": "f6e52e34",
   "metadata": {},
   "outputs": [],
   "source": [
    "#********************************************\n",
    "# Write your invert function below: (3 marks)\n",
    "#********************************************\n",
    "def invert(n):\n",
    "    return -1*n"
   ]
  },
  {
   "cell_type": "markdown",
   "id": "676a537e",
   "metadata": {},
   "source": [
    "---\n",
    "## Submission\n",
    "\n",
    "Please download this notebook as a .py file (*File* > *Download as* > *Python (.py)*) and submit it to the Computing Lab 2 Pre-Assigment dropbox on avenue with the naming convention: macID_pre_CL2.py\n",
    "\n",
    "**Make sure the final version of your file runs without errors, otherwise, you will likely receive zero.**"
   ]
  }
 ],
 "metadata": {
  "kernelspec": {
   "display_name": "Python 3 (ipykernel)",
   "language": "python",
   "name": "python3"
  },
  "language_info": {
   "codemirror_mode": {
    "name": "ipython",
    "version": 3
   },
   "file_extension": ".py",
   "mimetype": "text/x-python",
   "name": "python",
   "nbconvert_exporter": "python",
   "pygments_lexer": "ipython3",
   "version": "3.11.4"
  }
 },
 "nbformat": 4,
 "nbformat_minor": 5
}
